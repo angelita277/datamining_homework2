{
 "cells": [
  {
   "cell_type": "markdown",
   "metadata": {},
   "source": [
    "# 实验要求\n",
    "1. 对数据集进行处理，转换成适合进行关联规则挖掘的形式；\n",
    "2. 找出频繁模式；\n",
    "3. 导出关联规则，计算其支持度和置信度;\n",
    "4. 对规则进行评价，可使用Lift、卡方和其它教材中提及的指标, 至少2种；\n",
    "5. 对挖掘结果进行分析；\n",
    "6. 可视化展示。"
   ]
  },
  {
   "cell_type": "markdown",
   "metadata": {},
   "source": [
    "获取数据集"
   ]
  },
  {
   "cell_type": "code",
   "execution_count": 6,
   "metadata": {
    "_cell_guid": "b1076dfc-b9ad-4769-8c92-a6c4dae69d19",
    "_uuid": "8f2839f25d086af736a60e9eeb907d3b93b6e0e5",
    "execution": {
     "iopub.execute_input": "2022-04-12T09:53:35.951243Z",
     "iopub.status.busy": "2022-04-12T09:53:35.950952Z",
     "iopub.status.idle": "2022-04-12T09:53:37.050858Z",
     "shell.execute_reply": "2022-04-12T09:53:37.050144Z",
     "shell.execute_reply.started": "2022-04-12T09:53:35.951205Z"
    }
   },
   "outputs": [
    {
     "name": "stdout",
     "output_type": "stream",
     "text": [
      "<class 'pandas.core.frame.DataFrame'>\n"
     ]
    }
   ],
   "source": [
    "# This Python 3 environment comes with many helpful analytics libraries installed\n",
    "# It is defined by the kaggle/python Docker image: https://github.com/kaggle/docker-python\n",
    "# For example, here's several helpful packages to load\n",
    "\n",
    "import numpy as np # linear algebra\n",
    "import pandas as pd # data processing, CSV file I/O (e.g. pd.read_csv)\n",
    "\n",
    "# Input data files are available in the read-only \"../input/\" directory\n",
    "# For example, running this (by clicking run or pressing Shift+Enter) will list all files under the input directory\n",
    "\n",
    "import os\n",
    "'''for dirname, _, filenames in os.walk('/kaggle/input'):\n",
    "    for filename in filenames:\n",
    "        #print(os.path.join(dirname, filename))\n",
    "        #print(filename)\n",
    "        if filename==\"winemag-data-130k-v2.csv\":\n",
    "            data=pd.read_csv(os.path.join(dirname, filename))'''\n",
    "data=pd.read_csv(r\"/Users/lianqi/Desktop/winemag-data-130k-v2.csv\")\n",
    "print(type(data))\n",
    "\n",
    "# You can write up to 20GB to the current directory (/kaggle/working/) that gets preserved as output when you create a version using \"Save & Run All\" \n",
    "# You can also write temporary files to /kaggle/temp/, but they won't be saved outside of the current session"
   ]
  },
  {
   "cell_type": "markdown",
   "metadata": {},
   "source": [
    "查看数据集大致信息"
   ]
  },
  {
   "cell_type": "code",
   "execution_count": 2,
   "metadata": {
    "execution": {
     "iopub.execute_input": "2022-04-12T09:53:37.052930Z",
     "iopub.status.busy": "2022-04-12T09:53:37.052496Z",
     "iopub.status.idle": "2022-04-12T09:53:37.223235Z",
     "shell.execute_reply": "2022-04-12T09:53:37.222366Z",
     "shell.execute_reply.started": "2022-04-12T09:53:37.052899Z"
    }
   },
   "outputs": [
    {
     "name": "stdout",
     "output_type": "stream",
     "text": [
      "<class 'pandas.core.frame.DataFrame'>\n",
      "RangeIndex: 129971 entries, 0 to 129970\n",
      "Data columns (total 14 columns):\n",
      " #   Column                 Non-Null Count   Dtype  \n",
      "---  ------                 --------------   -----  \n",
      " 0   Unnamed: 0             129971 non-null  int64  \n",
      " 1   country                129908 non-null  object \n",
      " 2   description            129971 non-null  object \n",
      " 3   designation            92506 non-null   object \n",
      " 4   points                 129971 non-null  int64  \n",
      " 5   price                  120975 non-null  float64\n",
      " 6   province               129908 non-null  object \n",
      " 7   region_1               108724 non-null  object \n",
      " 8   region_2               50511 non-null   object \n",
      " 9   taster_name            103727 non-null  object \n",
      " 10  taster_twitter_handle  98758 non-null   object \n",
      " 11  title                  129971 non-null  object \n",
      " 12  variety                129970 non-null  object \n",
      " 13  winery                 129971 non-null  object \n",
      "dtypes: float64(1), int64(2), object(11)\n",
      "memory usage: 13.9+ MB\n",
      "None\n",
      "--------------------------------------------------------------------------------\n",
      "   Unnamed: 0   country                                        description  \\\n",
      "0           0     Italy  Aromas include tropical fruit, broom, brimston...   \n",
      "1           1  Portugal  This is ripe and fruity, a wine that is smooth...   \n",
      "2           2        US  Tart and snappy, the flavors of lime flesh and...   \n",
      "3           3        US  Pineapple rind, lemon pith and orange blossom ...   \n",
      "4           4        US  Much like the regular bottling from 2012, this...   \n",
      "5           5     Spain  Blackberry and raspberry aromas show a typical...   \n",
      "6           6     Italy  Here's a bright, informal red that opens with ...   \n",
      "7           7    France  This dry and restrained wine offers spice in p...   \n",
      "8           8   Germany  Savory dried thyme notes accent sunnier flavor...   \n",
      "9           9    France  This has great depth of flavor with its fresh ...   \n",
      "\n",
      "                          designation  points  price           province  \\\n",
      "0                        Vulkà Bianco      87    NaN  Sicily & Sardinia   \n",
      "1                            Avidagos      87   15.0              Douro   \n",
      "2                                 NaN      87   14.0             Oregon   \n",
      "3                Reserve Late Harvest      87   13.0           Michigan   \n",
      "4  Vintner's Reserve Wild Child Block      87   65.0             Oregon   \n",
      "5                        Ars In Vitro      87   15.0     Northern Spain   \n",
      "6                             Belsito      87   16.0  Sicily & Sardinia   \n",
      "7                                 NaN      87   24.0             Alsace   \n",
      "8                               Shine      87   12.0        Rheinhessen   \n",
      "9                         Les Natures      87   27.0             Alsace   \n",
      "\n",
      "              region_1           region_2         taster_name  \\\n",
      "0                 Etna                NaN       Kerin O’Keefe   \n",
      "1                  NaN                NaN          Roger Voss   \n",
      "2    Willamette Valley  Willamette Valley        Paul Gregutt   \n",
      "3  Lake Michigan Shore                NaN  Alexander Peartree   \n",
      "4    Willamette Valley  Willamette Valley        Paul Gregutt   \n",
      "5              Navarra                NaN   Michael Schachner   \n",
      "6             Vittoria                NaN       Kerin O’Keefe   \n",
      "7               Alsace                NaN          Roger Voss   \n",
      "8                  NaN                NaN  Anna Lee C. Iijima   \n",
      "9               Alsace                NaN          Roger Voss   \n",
      "\n",
      "  taster_twitter_handle                                              title  \\\n",
      "0          @kerinokeefe                  Nicosia 2013 Vulkà Bianco  (Etna)   \n",
      "1            @vossroger      Quinta dos Avidagos 2011 Avidagos Red (Douro)   \n",
      "2           @paulgwine       Rainstorm 2013 Pinot Gris (Willamette Valley)   \n",
      "3                   NaN  St. Julian 2013 Reserve Late Harvest Riesling ...   \n",
      "4           @paulgwine   Sweet Cheeks 2012 Vintner's Reserve Wild Child...   \n",
      "5           @wineschach  Tandem 2011 Ars In Vitro Tempranillo-Merlot (N...   \n",
      "6          @kerinokeefe   Terre di Giurfo 2013 Belsito Frappato (Vittoria)   \n",
      "7            @vossroger              Trimbach 2012 Gewurztraminer (Alsace)   \n",
      "8                   NaN  Heinz Eifel 2013 Shine Gewürztraminer (Rheinhe...   \n",
      "9            @vossroger  Jean-Baptiste Adam 2012 Les Natures Pinot Gris...   \n",
      "\n",
      "              variety               winery  \n",
      "0         White Blend              Nicosia  \n",
      "1      Portuguese Red  Quinta dos Avidagos  \n",
      "2          Pinot Gris            Rainstorm  \n",
      "3            Riesling           St. Julian  \n",
      "4          Pinot Noir         Sweet Cheeks  \n",
      "5  Tempranillo-Merlot               Tandem  \n",
      "6            Frappato      Terre di Giurfo  \n",
      "7      Gewürztraminer             Trimbach  \n",
      "8      Gewürztraminer          Heinz Eifel  \n",
      "9          Pinot Gris   Jean-Baptiste Adam  \n"
     ]
    }
   ],
   "source": [
    "print(data.info())\n",
    "print(\"-\"*80)\n",
    "print(data.head(10))"
   ]
  },
  {
   "cell_type": "markdown",
   "metadata": {},
   "source": [
    "选择合适的属性列进行频繁模式和关联规则挖掘，这里我们选择country,points,price,province,region_1,region_2,variety,winery，将这些列提取出来形成新的数据集new_data。"
   ]
  },
  {
   "cell_type": "code",
   "execution_count": 3,
   "metadata": {
    "execution": {
     "iopub.execute_input": "2022-04-12T09:53:37.224640Z",
     "iopub.status.busy": "2022-04-12T09:53:37.224389Z",
     "iopub.status.idle": "2022-04-12T09:53:37.324581Z",
     "shell.execute_reply": "2022-04-12T09:53:37.323657Z",
     "shell.execute_reply.started": "2022-04-12T09:53:37.224611Z"
    }
   },
   "outputs": [
    {
     "name": "stdout",
     "output_type": "stream",
     "text": [
      "<class 'pandas.core.frame.DataFrame'>\n",
      "RangeIndex: 129971 entries, 0 to 129970\n",
      "Data columns (total 8 columns):\n",
      " #   Column    Non-Null Count   Dtype  \n",
      "---  ------    --------------   -----  \n",
      " 0   country   129908 non-null  object \n",
      " 1   points    129971 non-null  int64  \n",
      " 2   price     120975 non-null  float64\n",
      " 3   province  129908 non-null  object \n",
      " 4   region_1  108724 non-null  object \n",
      " 5   region_2  50511 non-null   object \n",
      " 6   variety   129970 non-null  object \n",
      " 7   winery    129971 non-null  object \n",
      "dtypes: float64(1), int64(1), object(6)\n",
      "memory usage: 7.9+ MB\n",
      "None\n"
     ]
    }
   ],
   "source": [
    "new_data=data[[\"country\",\"points\",\"price\",\"province\",\"region_1\",\"region_2\",\"variety\",\"winery\"]]\n",
    "print(new_data.info())"
   ]
  },
  {
   "cell_type": "code",
   "execution_count": 4,
   "metadata": {
    "execution": {
     "iopub.execute_input": "2022-04-12T09:53:37.326475Z",
     "iopub.status.busy": "2022-04-12T09:53:37.326238Z",
     "iopub.status.idle": "2022-04-12T09:53:37.699712Z",
     "shell.execute_reply": "2022-04-12T09:53:37.698798Z",
     "shell.execute_reply.started": "2022-04-12T09:53:37.326447Z"
    }
   },
   "outputs": [
    {
     "name": "stdout",
     "output_type": "stream",
     "text": [
      "country        63\n",
      "points          0\n",
      "price        8996\n",
      "province       63\n",
      "region_1    21247\n",
      "region_2    79460\n",
      "variety         1\n",
      "winery          0\n",
      "dtype: int64\n",
      "<class 'pandas.core.frame.DataFrame'>\n",
      "RangeIndex: 129971 entries, 0 to 129970\n",
      "Data columns (total 8 columns):\n",
      " #   Column    Non-Null Count   Dtype  \n",
      "---  ------    --------------   -----  \n",
      " 0   country   129908 non-null  object \n",
      " 1   points    129971 non-null  int64  \n",
      " 2   price     120975 non-null  float64\n",
      " 3   province  129908 non-null  object \n",
      " 4   region_1  108724 non-null  object \n",
      " 5   region_2  50511 non-null   object \n",
      " 6   variety   129970 non-null  object \n",
      " 7   winery    129971 non-null  object \n",
      "dtypes: float64(1), int64(1), object(6)\n",
      "memory usage: 7.9+ MB\n",
      "None\n",
      "country     0\n",
      "points      0\n",
      "price       0\n",
      "province    0\n",
      "region_1    0\n",
      "region_2    0\n",
      "variety     0\n",
      "winery      0\n",
      "dtype: int64\n",
      "<class 'pandas.core.frame.DataFrame'>\n",
      "Int64Index: 50292 entries, 2 to 129967\n",
      "Data columns (total 8 columns):\n",
      " #   Column    Non-Null Count  Dtype  \n",
      "---  ------    --------------  -----  \n",
      " 0   country   50292 non-null  object \n",
      " 1   points    50292 non-null  int64  \n",
      " 2   price     50292 non-null  float64\n",
      " 3   province  50292 non-null  object \n",
      " 4   region_1  50292 non-null  object \n",
      " 5   region_2  50292 non-null  object \n",
      " 6   variety   50292 non-null  object \n",
      " 7   winery    50292 non-null  object \n",
      "dtypes: float64(1), int64(1), object(6)\n",
      "memory usage: 3.5+ MB\n",
      "None\n"
     ]
    }
   ],
   "source": [
    "print(new_data.isnull().sum())\n",
    "print(new_data.info())\n",
    "new_data1=new_data.dropna(how=\"any\")\n",
    "new_data1.dropna(axis=0,inplace=False)\n",
    "print(new_data1.isnull().sum())\n",
    "print(new_data1.info())"
   ]
  },
  {
   "cell_type": "code",
   "execution_count": 7,
   "metadata": {
    "execution": {
     "iopub.execute_input": "2022-04-12T09:53:37.701652Z",
     "iopub.status.busy": "2022-04-12T09:53:37.701387Z",
     "iopub.status.idle": "2022-04-12T09:53:37.707532Z",
     "shell.execute_reply": "2022-04-12T09:53:37.706777Z",
     "shell.execute_reply.started": "2022-04-12T09:53:37.701621Z"
    }
   },
   "outputs": [],
   "source": [
    "from progressbar import *\n",
    "def new_set(dataset):\n",
    "    ns=[]\n",
    "    progress=ProgressBar()\n",
    "    for data in progress(dataset):\n",
    "        for item in data:\n",
    "            #if [item] not in C1:\n",
    "            ns.append([item])\n",
    "    print(\"success\")\n",
    "    return [frozenset(item) for item in ns]"
   ]
  },
  {
   "cell_type": "code",
   "execution_count": 8,
   "metadata": {
    "execution": {
     "iopub.execute_input": "2022-04-12T09:53:37.708980Z",
     "iopub.status.busy": "2022-04-12T09:53:37.708744Z",
     "iopub.status.idle": "2022-04-12T09:53:37.720062Z",
     "shell.execute_reply": "2022-04-12T09:53:37.719315Z",
     "shell.execute_reply.started": "2022-04-12T09:53:37.708949Z"
    }
   },
   "outputs": [],
   "source": [
    "def filter_d(dataset, Ck):\n",
    "    Ck_count = dict()\n",
    "    for data in dataset:\n",
    "        for cand in Ck:\n",
    "            if cand.issubset(data):\n",
    "                if cand not in Ck_count:\n",
    "                    Ck_count[cand] = 1\n",
    "                else:\n",
    "                    Ck_count[cand] += 1\n",
    "\n",
    "    num_items = float(len(dataset))\n",
    "    return_list = []\n",
    "    support_data = dict()\n",
    "    for key in Ck_count:\n",
    "        support  = Ck_count[key] / num_items\n",
    "        if support >= 0.1:\n",
    "              return_list.insert(0, key)\n",
    "        support_data[key] = support\n",
    "    return return_list, support_data"
   ]
  },
  {
   "cell_type": "code",
   "execution_count": 9,
   "metadata": {
    "execution": {
     "iopub.execute_input": "2022-04-12T09:53:37.721676Z",
     "iopub.status.busy": "2022-04-12T09:53:37.721384Z",
     "iopub.status.idle": "2022-04-12T09:53:37.733055Z",
     "shell.execute_reply": "2022-04-12T09:53:37.732209Z",
     "shell.execute_reply.started": "2022-04-12T09:53:37.721646Z"
    }
   },
   "outputs": [],
   "source": [
    "def concat(Lk, k):\n",
    "        return_list = []\n",
    "        len_Lk = len(Lk)\n",
    "        for i in range(len_Lk):\n",
    "            for j in range(i+1, len_Lk):\n",
    "                L1 = list(Lk[i])[:k-2]\n",
    "                L2 = list(Lk[j])[:k-2]\n",
    "                L1.sort()\n",
    "                L2.sort()\n",
    "                if L1 == L2:\n",
    "                    return_list.append(Lk[i] | Lk[j])\n",
    "        return return_list"
   ]
  },
  {
   "cell_type": "code",
   "execution_count": 10,
   "metadata": {
    "execution": {
     "iopub.execute_input": "2022-04-12T09:53:37.734654Z",
     "iopub.status.busy": "2022-04-12T09:53:37.734383Z",
     "iopub.status.idle": "2022-04-12T09:53:37.747452Z",
     "shell.execute_reply": "2022-04-12T09:53:37.746593Z",
     "shell.execute_reply.started": "2022-04-12T09:53:37.734624Z"
    }
   },
   "outputs": [],
   "source": [
    "def apriori(dataset):\n",
    "    C1 = new_set(dataset)\n",
    "    dataset = [set(data) for data in dataset]\n",
    "    L1, support_data = filter_d(dataset, C1)\n",
    "    L = [L1]\n",
    "    k = 2\n",
    "    while len(L[k-2]) > 0:\n",
    "        Ck = concat(L[k-2], k)\n",
    "        Lk, support_k = filter_d(dataset, Ck)\n",
    "        support_data.update(support_k)\n",
    "        L.append(Lk)\n",
    "        k += 1\n",
    "    return L, support_data"
   ]
  },
  {
   "cell_type": "code",
   "execution_count": 11,
   "metadata": {
    "execution": {
     "iopub.execute_input": "2022-04-12T09:53:37.749497Z",
     "iopub.status.busy": "2022-04-12T09:53:37.748727Z",
     "iopub.status.idle": "2022-04-12T09:53:37.881248Z",
     "shell.execute_reply": "2022-04-12T09:53:37.880234Z",
     "shell.execute_reply.started": "2022-04-12T09:53:37.749450Z"
    }
   },
   "outputs": [
    {
     "name": "stderr",
     "output_type": "stream",
     "text": [
      "100% (50292 of 50292) |##################| Elapsed Time: 0:00:00 Time:  0:00:00\n"
     ]
    },
    {
     "name": "stdout",
     "output_type": "stream",
     "text": [
      "success\n"
     ]
    }
   ],
   "source": [
    "\n",
    "freq_set, sup_rata = apriori(new_data1)\n",
    "\n",
    "sup_rata_out = sorted(sup_rata.items(), key=lambda d: d[1], reverse=True)"
   ]
  },
  {
   "cell_type": "code",
   "execution_count": null,
   "metadata": {},
   "outputs": [],
   "source": []
  }
 ],
 "metadata": {
  "kernelspec": {
   "display_name": "Python 3 (ipykernel)",
   "language": "python",
   "name": "python3"
  },
  "language_info": {
   "codemirror_mode": {
    "name": "ipython",
    "version": 3
   },
   "file_extension": ".py",
   "mimetype": "text/x-python",
   "name": "python",
   "nbconvert_exporter": "python",
   "pygments_lexer": "ipython3",
   "version": "3.9.7"
  }
 },
 "nbformat": 4,
 "nbformat_minor": 4
}
